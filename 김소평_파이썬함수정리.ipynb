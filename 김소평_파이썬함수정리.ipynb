{
  "nbformat": 4,
  "nbformat_minor": 0,
  "metadata": {
    "colab": {
      "provenance": []
    },
    "kernelspec": {
      "name": "python3",
      "display_name": "Python 3"
    },
    "language_info": {
      "name": "python"
    }
  },
  "cells": [
    {
      "cell_type": "code",
      "execution_count": 7,
      "metadata": {
        "id": "ktyVUoTJinyl"
      },
      "outputs": [],
      "source": [
        "#함수를 사용할 때 사용자들이 실수를 많이 하는데,\n",
        "#초기값을 가지는 매개변수를 건너뛰고, 다른 변수(초기값이 없는 매개변수)에만 값이 전달된다.\n",
        "#약속:초기값을 가지는 매개변수 선언하면, 그 이후의 매개변수는 모두 초기값을 가지도록 선언해라.\n",
        "\n",
        "def 사칙연산(num1, num2, op='-'):  #num1, num2: 숫자2개, op: 사칙연산\n",
        "    if op == \"+\":\n",
        "      return num1 + num2\n",
        "    elif op == \"-\":\n",
        "      return num1 - num2\n",
        "    elif op == \"*\":\n",
        "      return num1 * num2\n",
        "    elif op == \"/\":\n",
        "      return num1 / num2\n",
        "    else:\n",
        "      return None\n",
        "\n",
        "num = 사칙연산(4, 5, '-')\n",
        "num2 = 사칙연산(num1 = 4, num2 = 5, op = '-')"
      ]
    },
    {
      "cell_type": "code",
      "source": [
        "#함수를 사용하는 사용자 입장에서는,\n",
        "#num1, num2가 하나의 숫자만 사용가능하느냐?\n",
        "\n",
        "def 사칙연산(num1, num2, op='+'):  #num1, num2: 숫자2개, op: 사칙연산\n",
        "    if op == \"+\":\n",
        "      return num1 + num2\n",
        "    elif op == \"-\":\n",
        "      return num1 - num2\n",
        "    elif op == \"*\":\n",
        "      return num1 * num2\n",
        "    elif op == \"/\":\n",
        "      return num1 / num2\n",
        "    else:\n",
        "      return None\n",
        "\n",
        "num = 사칙연산(4, 5, '-'); print(num)\n",
        "num2 = 사칙연산(num1 = 4, num2 = 5, op = '-'); print(num2)\n",
        "num3 = 사칙연산([1,2,3],[4,5,6]); print(num3)"
      ],
      "metadata": {
        "colab": {
          "base_uri": "https://localhost:8080/"
        },
        "id": "wI6ubQ0btgXQ",
        "outputId": "cddc62fb-010e-4b3b-9c54-6361c79a368c"
      },
      "execution_count": 9,
      "outputs": [
        {
          "output_type": "stream",
          "name": "stdout",
          "text": [
            "-1\n",
            "-1\n",
            "[1, 2, 3, 4, 5, 6]\n"
          ]
        }
      ]
    },
    {
      "cell_type": "code",
      "source": [
        "#함수를 사용할 때는, 해당 함수의 목적에 맞도록 다양한 상황에 대해서도\n",
        "#동작하도록 코드를 구현해야 함.\n",
        "#범용성, 확장성 낮아 함수가 재사용성이 낮아짐\n",
        "\n",
        "def 사칙연산(num1, num2, op='+'): #num1, num2: 숫자2개, op: 사칙연산\n",
        "    if op == \"+\":\n",
        "      #num1,num2에 전달된 값들이 동일한 길이를 가지느냐?\n",
        "      if len(num1) != len(num2):\n",
        "         return None\n",
        "      result = []\n",
        "      for i in range(len(num1)):\n",
        "          temp = num1[i] + num2[i]\n",
        "          result.append(temp)\n",
        "      return result\n",
        "    elif op == \"-\":\n",
        "      return num1 - num2\n",
        "    elif op == \"*\":\n",
        "      return num1 * num2\n",
        "    elif op == \"/\":\n",
        "      return num1 / num2\n",
        "    else:\n",
        "      return None"
      ],
      "metadata": {
        "id": "imecSpj6uZtu"
      },
      "execution_count": 13,
      "outputs": []
    },
    {
      "cell_type": "code",
      "source": [
        "#Anonymous/Lambda function\n",
        "#이름없이 정의된 함수 : 함수를 사용할려고 하면 해당 함수이름 호출\n",
        "#대부분의 경우에 Lambda는 사용자 정의 함수로 대체 가능\n",
        "#함수는 사전에 선언, 호출\n",
        "#Lambda는 선언만 정의, 호출은 해당 lambda를 가지는 변수 호출\n",
        "\n",
        "def double(x):\n",
        "  return x * 2"
      ],
      "metadata": {
        "id": "DcqahMJSwL73"
      },
      "execution_count": 14,
      "outputs": []
    },
    {
      "cell_type": "code",
      "source": [
        "#단기간에 이름없는 함수가 필요할 때 사용함\n",
        "#filter(): 데이터를 연산, 각각 적용함\n",
        "#map(): 연산의 역할, 조건의 역할\n",
        "\n",
        "my_list = [1,5,4,6,8,11,3,12]\n",
        "new_list = list(filter(lambda x: (x%2 == 0), my_list))\n",
        "print(new_list)"
      ],
      "metadata": {
        "colab": {
          "base_uri": "https://localhost:8080/"
        },
        "id": "4Fj9IljpxGdl",
        "outputId": "1baf89af-1b97-441a-d468-37e338dff46f"
      },
      "execution_count": 15,
      "outputs": [
        {
          "output_type": "stream",
          "name": "stdout",
          "text": [
            "[4, 6, 8, 12]\n"
          ]
        }
      ]
    },
    {
      "cell_type": "code",
      "source": [
        "new_list = list(map(lambda x: x * 2, my_list))\n",
        "print(new_list)"
      ],
      "metadata": {
        "colab": {
          "base_uri": "https://localhost:8080/"
        },
        "id": "KaXmFtCdxYS7",
        "outputId": "d92b39fc-38a9-46aa-dee2-e7a438cbc150"
      },
      "execution_count": 16,
      "outputs": [
        {
          "output_type": "stream",
          "name": "stdout",
          "text": [
            "[2, 10, 8, 12, 16, 22, 6, 24]\n"
          ]
        }
      ]
    },
    {
      "cell_type": "code",
      "source": [
        "#파이썬에 엑셀데이터 불러오기\n",
        "\n",
        "def 엑셀불러오기(엑셀이름):\n",
        "    return [엑셀데이터]\n",
        "\n",
        "def 특정값찾기(입력데이터, 특정값):\n",
        "    pass\n",
        "\n",
        "def 사용자에게전달(전달데이터):\n",
        "    pass"
      ],
      "metadata": {
        "id": "dLMW6TKQyN2S"
      },
      "execution_count": null,
      "outputs": []
    },
    {
      "cell_type": "code",
      "source": [
        "filename = input()\n",
        "입력데이터 = 엑셀불러오기(filename)\n",
        "전달데이터 = 특정값찾기(입력데이터, 특정값)\n",
        "사용자에게전달(전달데이터)"
      ],
      "metadata": {
        "id": "DDMRzvB3yhCU"
      },
      "execution_count": null,
      "outputs": []
    }
  ]
}